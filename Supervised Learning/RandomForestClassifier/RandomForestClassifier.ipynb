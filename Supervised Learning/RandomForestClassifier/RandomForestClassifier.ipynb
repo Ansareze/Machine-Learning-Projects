{
 "cells": [
  {
   "cell_type": "markdown",
   "id": "47f019d9",
   "metadata": {},
   "source": [
    "# Introduction to Random Forest algorithm\n"
   ]
  },
  {
   "cell_type": "markdown",
   "id": "71526638",
   "metadata": {},
   "source": [
    "Random Forest is a powerful supervised learning algorithm that comes in two primary variants—one tailored for classification tasks and the other for regression. Renowned for its flexibility and ease of implementation, Random Forest operates by constructing multiple decision trees from various subsets of the training data. Each tree independently provides a prediction, and the algorithm aggregates these predictions—using majority voting for classification or averaging for regression—to arrive at the final output. Beyond its predictive capabilities, Random Forest is also highly effective in estimating feature importance, making it a valuable tool for both modeling and interpretation."
   ]
  },
  {
   "cell_type": "markdown",
   "id": "fcc57ba4",
   "metadata": {},
   "source": [
    "# Import & Install Libraries"
   ]
  },
  {
   "cell_type": "code",
   "execution_count": 2,
   "id": "03950155",
   "metadata": {},
   "outputs": [],
   "source": [
    "import numpy as np\n",
    "import pandas as pd\n",
    "import matplotlib.pyplot as plt\n",
    "import seaborn as sns\n",
    "%matplotlib inline\n",
    "\n",
    "import warnings\n",
    "warnings.filterwarnings('ignore')"
   ]
  },
  {
   "cell_type": "code",
   "execution_count": 3,
   "id": "e171c14c",
   "metadata": {},
   "outputs": [],
   "source": [
    "data = '/kaggle/input/car-evaluation-data-set/car_evaluation.csv'\n",
    "\n",
    "df = pd.read_csv(r\"C:\\Users\\ansar\\OneDrive\\Desktop\\Machine-Learning-Projects\\Supervised Learning\\RandomForestClassifier\\car_evaluation.csv\")"
   ]
  }
 ],
 "metadata": {
  "kernelspec": {
   "display_name": "base",
   "language": "python",
   "name": "python3"
  },
  "language_info": {
   "codemirror_mode": {
    "name": "ipython",
    "version": 3
   },
   "file_extension": ".py",
   "mimetype": "text/x-python",
   "name": "python",
   "nbconvert_exporter": "python",
   "pygments_lexer": "ipython3",
   "version": "3.12.7"
  }
 },
 "nbformat": 4,
 "nbformat_minor": 5
}
