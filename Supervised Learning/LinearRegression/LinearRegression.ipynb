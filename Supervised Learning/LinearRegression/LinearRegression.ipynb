{
 "cells": [
  {
   "cell_type": "markdown",
   "id": "0b8dbc3f-37cc-4375-a8c9-eb2bd76117dc",
   "metadata": {},
   "source": [
    "# Linear Regression"
   ]
  },
  {
   "cell_type": "raw",
   "id": "fc056d3d-4a72-48c0-a5d4-38d863b464e0",
   "metadata": {},
   "source": [
    "Linear Regression is a supervised machine learning algorithm used for predicting a continuous target variable based on one or more input features. It models the linear relationship between the independent variables (features) and the dependent variable (target) by fitting a straight line (in 2D) or a hyperplane (in higher dimensions) that minimizes the difference between predicted and actual values.\n",
    "\n",
    "In this project, we implemented Linear Regression to real estate price prediction, evaluated model performance using metrics like Mean Squared Error (MSE) and R² score, and visualized residuals to assess model fit. The model demonstrated a clear interpretation of how features impact predictions, making it an ideal choice for baseline regression tasks."
   ]
  },
  {
   "cell_type": "markdown",
   "id": "05aad015-4c21-4305-9eea-1d76304ab790",
   "metadata": {},
   "source": [
    "## Objective\n",
    "Build a linear regression model to predict real estate prices using numerical features. Evaluate performance using cross-validation and standard regression metrics."
   ]
  },
  {
   "cell_type": "markdown",
   "id": "27151761-e75b-49fc-a4e8-aea781c02574",
   "metadata": {},
   "source": [
    "# Import & Install Libraries"
   ]
  },
  {
   "cell_type": "code",
   "execution_count": null,
   "id": "ab1ef397-7181-4b19-8871-c262ee314863",
   "metadata": {},
   "outputs": [],
   "source": [
    "import pandas as pd\n",
    "import numpy as np\n",
    "import matplotlib.pyplot as plt\n",
    "import seaborn as sns\n",
    "from sklearn.model_selection import train_test_split\n",
    "from sklearn import metrics\n",
    "from sklearn.linear_model import LinearRegression\n",
    "from sklearn.model_selection import cross_val_score\n",
    "from sklearn.preprocessing import StandardScaler\n",
    "from sklearn.preprocessing import LabelEncoder\n",
    "import hvplot.pandas\n",
    "\n",
    "\n",
    "\n",
    "\n",
    "import warnings\n",
    "warnings.filterwarnings('ignore')\n",
    "%matplotlib inline\n"
   ]
  },
  {
   "cell_type": "markdown",
   "id": "15f703b7-48d5-428a-ba02-aef138eb1bda",
   "metadata": {},
   "source": [
    "# Checking Data"
   ]
  },
  {
   "cell_type": "code",
   "execution_count": null,
   "id": "a3710d25-72bb-4689-ab77-a8f5a3a86d02",
   "metadata": {},
   "outputs": [],
   "source": [
    "df = pd.read_csv(\"Real estate.csv\")"
   ]
  },
  {
   "cell_type": "code",
   "execution_count": null,
   "id": "fc2efe45-1956-41ac-873e-c45ae27e223b",
   "metadata": {},
   "outputs": [],
   "source": [
    "df.head()"
   ]
  },
  {
   "cell_type": "code",
   "execution_count": null,
   "id": "afa7cadd-0090-4791-9eb5-3b7e6eabdbbe",
   "metadata": {},
   "outputs": [],
   "source": [
    "df.shape"
   ]
  },
  {
   "cell_type": "code",
   "execution_count": null,
   "id": "c0911bb8-95d5-4e08-9c98-be512baf3a30",
   "metadata": {},
   "outputs": [],
   "source": [
    "df.info()"
   ]
  },
  {
   "cell_type": "code",
   "execution_count": null,
   "id": "8f89e144-096f-4476-a30f-fbc7c91d6694",
   "metadata": {},
   "outputs": [],
   "source": [
    "# checking null values\n",
    "df.isnull().sum()"
   ]
  },
  {
   "cell_type": "code",
   "execution_count": null,
   "id": "5a111a30-179c-4d05-9b5f-84bd49e7a992",
   "metadata": {},
   "outputs": [],
   "source": [
    "df.describe()"
   ]
  },
  {
   "cell_type": "code",
   "execution_count": null,
   "id": "327324bf-41e4-4f5e-acd3-e37d95f0de3a",
   "metadata": {},
   "outputs": [],
   "source": [
    "df.corr()"
   ]
  },
  {
   "cell_type": "markdown",
   "id": "6a51af06-6f24-432f-859b-daaec4154150",
   "metadata": {},
   "source": [
    "# Exploratory Data Analysis (EDA)"
   ]
  },
  {
   "cell_type": "code",
   "execution_count": null,
   "id": "dc46d8ec-fec2-4b5a-a574-fe5e6a1eb6ba",
   "metadata": {},
   "outputs": [],
   "source": [
    "sns.heatmap(df.corr(), annot=True , cmap='Reds')\n",
    "plt.show()"
   ]
  },
  {
   "cell_type": "code",
   "execution_count": null,
   "id": "b2ad4be0-b67a-4c7a-ac01-b353f5904902",
   "metadata": {},
   "outputs": [],
   "source": [
    "count_plot_fields = [i for i in df.columns if df[i].nunique()]  # list comprehension\n",
    "count_plot_fields"
   ]
  },
  {
   "cell_type": "code",
   "execution_count": null,
   "id": "12bff7f5-55b9-40f6-883d-b683e9b982c4",
   "metadata": {},
   "outputs": [],
   "source": [
    "fig = plt.figure(figsize = (15,14))\n",
    "for i ,j in enumerate(count_plot_fields):\n",
    "    plt.subplot(4,4, i+1)\n",
    "    sns.countplot(x = df[j])\n",
    "    plt.tight_layout()\n",
    "plt.show()"
   ]
  },
  {
   "cell_type": "code",
   "execution_count": null,
   "id": "50520474-7330-46fd-96a6-0e6a0fc7d582",
   "metadata": {},
   "outputs": [],
   "source": [
    "sns.pairplot(df)\n",
    "plt.show()"
   ]
  },
  {
   "cell_type": "markdown",
   "id": "76c38799-278b-4709-87f1-e96f0dede48b",
   "metadata": {},
   "source": [
    "# Training a Linear Regression Model"
   ]
  },
  {
   "cell_type": "markdown",
   "id": "f7809b47-5e25-4dc3-b507-7cd97c965fcd",
   "metadata": {},
   "source": [
    "### X and y arrays"
   ]
  },
  {
   "cell_type": "code",
   "execution_count": null,
   "id": "f0a6554d-93b1-47ab-a00a-92bfed05a394",
   "metadata": {},
   "outputs": [],
   "source": [
    "X=df.drop('Y house price of unit area', axis=1)\n",
    "\n",
    "y=df['Y house price of unit area']"
   ]
  },
  {
   "cell_type": "code",
   "execution_count": null,
   "id": "bc806cab-bf70-48d1-b630-67e754d71011",
   "metadata": {},
   "outputs": [],
   "source": [
    "print(\"X=\",X.shape,\"\\ny=\", y.shape)"
   ]
  },
  {
   "cell_type": "code",
   "execution_count": null,
   "id": "69a5cdb9",
   "metadata": {},
   "outputs": [],
   "source": [
    "scaler = StandardScaler()\n",
    "X_scaled = scaler.fit_transform(X)\n"
   ]
  },
  {
   "cell_type": "markdown",
   "id": "a96b2531-81f2-4b70-a23d-e3347958751e",
   "metadata": {},
   "source": [
    "## Train Test Split\n",
    "Now let's split the data into a training set and a testing set. We will train out model on the training set and then use the test set to evaluate the model."
   ]
  },
  {
   "cell_type": "code",
   "execution_count": null,
   "id": "d1bc35fa-db1b-4cd3-bf53-b0b6431ae5f6",
   "metadata": {},
   "outputs": [],
   "source": [
    "X_train, X_test, y_train, y_test = train_test_split(X, y, test_size=0.2, random_state=42)"
   ]
  },
  {
   "cell_type": "code",
   "execution_count": null,
   "id": "da94f4aa-d8e1-46f8-a469-967dfbf4f6cf",
   "metadata": {},
   "outputs": [],
   "source": [
    "X_train.shape"
   ]
  },
  {
   "cell_type": "code",
   "execution_count": null,
   "id": "563bafe1-2756-4874-8ede-1085cfb74ec9",
   "metadata": {},
   "outputs": [],
   "source": [
    "X_test.shape"
   ]
  },
  {
   "cell_type": "markdown",
   "id": "954dbfdc-bd8e-46ae-958e-1467e1f9216f",
   "metadata": {},
   "source": [
    "## Linear Regression"
   ]
  },
  {
   "cell_type": "code",
   "execution_count": null,
   "id": "d038137d-9c7e-4cc8-9b11-92c044dde5d2",
   "metadata": {},
   "outputs": [],
   "source": [
    "model = LinearRegression()\n",
    "cv_scores = cross_val_score(model, X_scaled, y, cv=5, scoring='r2')"
   ]
  },
  {
   "cell_type": "code",
   "execution_count": null,
   "id": "81ba4ab3-2274-40c3-bcfc-6487349381e1",
   "metadata": {},
   "outputs": [],
   "source": [
    "model.fit(X_train, y_train)"
   ]
  },
  {
   "cell_type": "markdown",
   "id": "d699cc78-41e1-42ea-8110-04e362ebe9ab",
   "metadata": {},
   "source": [
    "## Model Evaluation"
   ]
  },
  {
   "cell_type": "code",
   "execution_count": null,
   "id": "e0970510-47cc-4c8f-a1eb-8db98255451d",
   "metadata": {},
   "outputs": [],
   "source": [
    "model.coef_"
   ]
  },
  {
   "cell_type": "code",
   "execution_count": null,
   "id": "cc258e22-a416-40d4-8da9-a7f2ce4c45fa",
   "metadata": {},
   "outputs": [],
   "source": [
    "pd.DataFrame(model.coef_, X.columns, columns=['Coeficients'])"
   ]
  },
  {
   "cell_type": "markdown",
   "id": "8326cc62-dfe7-4d9b-94ae-a8a4498a8975",
   "metadata": {},
   "source": [
    "## Predictions from model"
   ]
  },
  {
   "cell_type": "code",
   "execution_count": null,
   "id": "ead867de-255a-4212-8e0b-d2b0b84d009c",
   "metadata": {},
   "outputs": [],
   "source": [
    "y_pred = model.predict(X_test)"
   ]
  },
  {
   "cell_type": "markdown",
   "id": "8ec29285-cd7f-4ae2-9219-d0faf6c7c96f",
   "metadata": {},
   "source": [
    "## Evaluating Model's Performance"
   ]
  },
  {
   "cell_type": "markdown",
   "id": "f19f4147-17d8-4b67-9683-1f9294062728",
   "metadata": {},
   "source": [
    "### Regression Evaluation Metrics\n",
    "\n",
    "#### 1. MSE (Mean Squared Error)\n",
    "*  Measures the average of the squared differences between predicted and actual values.\n",
    "* Significance: Penalizes larger errors more heavily. Lower is better.\n",
    "\n",
    "#### 2. RMSE (Root Mean Squared Error)\n",
    "* Square root of MSE. Same units as the target variable.\n",
    "* Significance: Easier to interpret than MSE; shows average prediction error.\n",
    "\n",
    "#### 3. **MAE (Mean Absolute Error)**\n",
    "* Average of absolute differences between predicted and actual values.\n",
    "* Significance: Less sensitive to outliers than MSE. Lower is better.\n",
    "\n",
    "#### 4. **R² Score (Coefficient of Determination)**\n",
    "* Measures how much of the variance in the target is explained by the model.\n",
    "* Significance: Ranges from 0 to 1 (or negative). **Closer to 1 means better fit.\n"
   ]
  },
  {
   "cell_type": "code",
   "execution_count": null,
   "id": "ac911023-890d-4b02-85ff-6ec2a19c1ce1",
   "metadata": {},
   "outputs": [],
   "source": [
    "mse = metrics.mean_squared_error (y_test , y_pred)\n",
    "rmse = np.sqrt(mse)\n",
    "r2 = metrics.r2_score(y_test, y_pred)\n",
    "mae = metrics.mean_absolute_error (y_test , y_pred)\n",
    "print(\"Cross-validation scores:\", cv_scores)\n",
    "print(\"Mean cross-validation score:\", np.mean(cv_scores))\n",
    "print(\"Mean squared error [mse]:\", mse)\n",
    "print(\"Root mean squared error [rmse]:\", rmse)\n",
    "print(\"R^2 score [r2]:\", r2)\n",
    "print(\"Mean absolute error [mae]:mae\", mae)"
   ]
  },
  {
   "cell_type": "code",
   "execution_count": null,
   "id": "c004fe65-da7c-472f-bef2-1f452b7c3cd9",
   "metadata": {},
   "outputs": [],
   "source": [
    "plt.figure(figsize=(8,6))\n",
    "plt.scatter(y_test, y_pred , color = 'blue', alpha = 0.7)\n",
    "plt.xlabel(\"actual house prices\")\n",
    "plt.ylabel(\"predicted house price\")\n",
    "plt.title(\"actual vs predicted house prices\")\n",
    "plt.legend()\n",
    "plt.show()"
   ]
  },
  {
   "cell_type": "markdown",
   "id": "6a1caee5-30ee-4b8f-81d1-80c0260feb8e",
   "metadata": {},
   "source": [
    "## **Residual Histogram**\n",
    "\n",
    "* **For Linear Regression it is a good idea to separately evaluate residuals $$(y-\\hat{y})$$ and not just calculate performance metrics (e.g. RMSE).**\n",
    "\n",
    "* **The residual eerors should be random and close to a normal distribution.**"
   ]
  },
  {
   "cell_type": "code",
   "execution_count": null,
   "id": "5e27b1af-dee2-4caa-b644-566e101921c7",
   "metadata": {},
   "outputs": [],
   "source": [
    "test_residual= y_test - y_pred"
   ]
  },
  {
   "cell_type": "code",
   "execution_count": null,
   "id": "770943b2-1453-4de2-8b22-190791dcaa99",
   "metadata": {},
   "outputs": [],
   "source": [
    "pd.DataFrame({'Error Values': (test_residual)}).hvplot.kde()"
   ]
  },
  {
   "cell_type": "code",
   "execution_count": null,
   "id": "9ec521a9-87a4-4316-ba01-0b8fa987d08d",
   "metadata": {},
   "outputs": [],
   "source": [
    "sns.displot(test_residual, bins=25, kde=True)\n",
    "plt.show()"
   ]
  },
  {
   "cell_type": "code",
   "execution_count": null,
   "id": "b510fdf4-e06f-45ee-8286-7ce43abf8c20",
   "metadata": {},
   "outputs": [],
   "source": [
    "sns.scatterplot(x=y_test, y=test_residual)\n",
    "\n",
    "plt.axhline(y=0, color='r', ls='--')\n",
    "plt.show()"
   ]
  },
  {
   "cell_type": "code",
   "execution_count": null,
   "id": "5bd50948-ed82-4c11-8548-071973a15577",
   "metadata": {},
   "outputs": [],
   "source": []
  },
  {
   "cell_type": "code",
   "execution_count": null,
   "id": "fcb56232-b070-4c29-adb8-a4d9b8883e4b",
   "metadata": {},
   "outputs": [],
   "source": []
  },
  {
   "cell_type": "code",
   "execution_count": null,
   "id": "b2c8c5e8-8353-4259-b371-878e2addaa67",
   "metadata": {},
   "outputs": [],
   "source": []
  }
 ],
 "metadata": {
  "kernelspec": {
   "display_name": "Python 3 (ipykernel)",
   "language": "python",
   "name": "python3"
  },
  "language_info": {
   "codemirror_mode": {
    "name": "ipython",
    "version": 3
   },
   "file_extension": ".py",
   "mimetype": "text/x-python",
   "name": "python",
   "nbconvert_exporter": "python",
   "pygments_lexer": "ipython3",
   "version": "3.12.7"
  }
 },
 "nbformat": 4,
 "nbformat_minor": 5
}
